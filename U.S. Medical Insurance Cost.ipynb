{
 "cells": [
  {
   "cell_type": "markdown",
   "metadata": {},
   "source": [
    "# U.S. Medical Insurance Costs"
   ]
  },
  {
   "cell_type": "markdown",
   "metadata": {},
   "source": [
    "In this project, I have **.csv** file with medical insurance costs which will be investigated with Python. The goal of project is analyze various attributes of **insurance.csv** to learn more about patient information and find a future potential use of it"
   ]
  },
  {
   "cell_type": "code",
   "execution_count": 4,
   "metadata": {},
   "outputs": [],
   "source": [
    "# import all important modules for our project. CSV to iterate through insurance.csv file, \n",
    "# collections to create new dictionaries\n",
    "import csv\n",
    "from collections import defaultdict"
   ]
  },
  {
   "cell_type": "markdown",
   "metadata": {},
   "source": [
    "To start, we need import all important modules.\n",
    "\n",
    "Next, we need to iterate through **insurance.csv** to get our data. The following aspects of the data file will be checked in order to plan out how to import the data into a Python file:\n",
    "\n",
    "    - The names of columns and rows\n",
    "    - Any noticeable missing data\n",
    "    - Types of values (numerical vs. categorical)\n"
   ]
  },
  {
   "cell_type": "code",
   "execution_count": 5,
   "metadata": {},
   "outputs": [],
   "source": [
    "# create lists for every column in our insurance.csv\n",
    "age = []\n",
    "sex = []\n",
    "bmi = []\n",
    "children = []\n",
    "smoker = []\n",
    "region = []\n",
    "charges = []"
   ]
  },
  {
   "cell_type": "markdown",
   "metadata": {},
   "source": [
    "Our **insurance.csv** conrtains the following columns:\n",
    "* Patient Age\n",
    "* Patient Sex\n",
    "* Patient BMI\n",
    "* Patient Number of Children\n",
    "* Patient Smoker Status\n",
    "* Patient Region\n",
    "* Patient Charges\n",
    "\n",
    "There are no missing information. Now we are able to store information from **insurance.csv** in our empty lists with same name as columns name."
   ]
  },
  {
   "cell_type": "code",
   "execution_count": 6,
   "metadata": {},
   "outputs": [],
   "source": [
    "def load_data(file_name):\n",
    "    \"\"\"helper function to read file and add information to our lists\"\"\"\n",
    "    with open(\"insurance.csv\") as insurance_file:\n",
    "        reader = csv.DictReader(insurance_file)\n",
    "        for row in reader:\n",
    "            age.append(row['age'])\n",
    "            sex.append(row['sex'])\n",
    "            bmi.append(row['bmi'])\n",
    "            children.append(row['children'])\n",
    "            smoker.append(row['smoker'])\n",
    "            region.append(row['region'])\n",
    "            charges.append(row['charges'])"
   ]
  },
  {
   "cell_type": "markdown",
   "metadata": {},
   "source": [
    "**load_data()** has only one parameter with file name and can organize our information in lists. "
   ]
  },
  {
   "cell_type": "code",
   "execution_count": 8,
   "metadata": {},
   "outputs": [],
   "source": [
    "load_data('insurance.csv')"
   ]
  },
  {
   "cell_type": "markdown",
   "metadata": {},
   "source": [
    "Now that all the data from **insurance.csv** neatly organized into labeled lists, the analysis can be started. This is where one must plan out what to investigate and how to perform the analysis. There are many aspects of the data that could be looked into. The following operations will be implemented:\n",
    "* Calculate average age of all patients\n",
    "* Calculate average age of males and females\n",
    "* Calculate % of smokers \n",
    "* Calculate average % difference in insurance cost for smokers and non-smokers\n",
    "* Calculate average age of patients who has children\n",
    "* Find region where most of patients live\n",
    "\n",
    "To perform this inspections, 2 helper functions and 5 functions was created:\n",
    "* `create_dictionary(list_age, list_sex, list_bmi, list_children, list_smoker, list_region, list_charges)`\n",
    "* `calculate_average_age(list_of_ages)`\n",
    "* `calculate_average_age_by_gender(my_dictionary)`\n",
    "* `calculate_smoker_percentage(my_dictionary)`\n",
    "* `difference_in_price_for_smokers(my_dictionary)`\n",
    "* `calculate_average_age_with_children(my_dictionary)`\n",
    "* `calculate_regions(my_dictionary)`\n",
    "\n",
    "This all function will be reprsesented below.\n"
   ]
  },
  {
   "cell_type": "code",
   "execution_count": 20,
   "metadata": {},
   "outputs": [],
   "source": [
    "def create_dictionary(list_age, list_sex, list_bmi, list_children, list_smoker, list_region, list_charges):\n",
    "    \"\"\"Helper function creates a dictionary from our lists with patient number as a key\"\"\"\n",
    "    my_dictionary = {}\n",
    "    counter = 1\n",
    "    for x in range(len(list_age)):\n",
    "        my_dictionary.update({\n",
    "            counter: {\n",
    "                'Age': list_age[x],\n",
    "                'Sex': list_sex[x],\n",
    "                'BMI': list_bmi[x],\n",
    "                'Children': list_children[x],\n",
    "                'Smoker': list_smoker[x],\n",
    "                'Region': list_region[x],\n",
    "                'Charges': list_charges[x]\n",
    "            }\n",
    "        })\n",
    "        counter += 1\n",
    "    return my_dictionary\n",
    "\n",
    "def calculate_average_age(list_of_ages):\n",
    "    \"\"\"Helper function which calculates average age of all ages in list\"\"\"\n",
    "    total = 0\n",
    "    for patient_age in list_of_ages:\n",
    "        total += int(patient_age)\n",
    "    return round(total / len(list_of_ages), 2)\n",
    "\n",
    "def calculate_average_age_by_gender(my_dictionary):\n",
    "    \"\"\"Function which calculate average age of males and females from dictionary and returns 2 ages\"\"\"\n",
    "    list_of_males = []\n",
    "    list_of_females = []\n",
    "    for value in my_dictionary.values():\n",
    "        if value['Sex'] == 'female':\n",
    "            list_of_females.append(value['Age'])\n",
    "        elif value['Sex'] == 'male':\n",
    "            list_of_males.append(value['Age'])\n",
    "\n",
    "    return calculate_average_age(list_of_males), calculate_average_age(list_of_females)\n",
    "\n",
    "def calculate_smoker_percentage(my_dictionary):\n",
    "    \"\"\"Function which calculate percent of smokers in list\"\"\"\n",
    "    counter = 0\n",
    "    for value in my_dictionary.values():\n",
    "        if value['Smoker'] == 'yes':\n",
    "            counter += 1\n",
    "    return round(counter / len(my_dictionary) * 100, 2)\n",
    "\n",
    "def difference_in_price_for_smokers(my_dictionary):\n",
    "    \"\"\"Function which calculates average price difference between smokers and non-smokers\"\"\"\n",
    "    total_for_smoker = 0\n",
    "    total_for_non_smoker = 0\n",
    "    for value in my_dictionary.values():\n",
    "        if value['Smoker'] == 'yes':\n",
    "            total_for_smoker += float(value['Charges'])\n",
    "        else:\n",
    "            total_for_non_smoker += float(value['Charges'])\n",
    "\n",
    "    return round(total_for_smoker / total_for_non_smoker * 100, 2)\n",
    "\n",
    "def calculate_average_age_with_children(my_dictionary):\n",
    "    \"\"\"Calculate average age of people with minimum one child\"\"\"\n",
    "    list_of_people_with_children = []\n",
    "    for value in my_dictionary.values():\n",
    "        if int(value['Children']) > 0:\n",
    "            list_of_people_with_children.append(value['Age'])\n",
    "    return calculate_average_age(list_of_people_with_children)\n",
    "\n",
    "def calculate_regions(my_dictionary):\n",
    "    \"\"\"Calculate from which region is people and where is the biggest number of people\"\"\"\n",
    "    d = defaultdict(int)\n",
    "    number_of_people = 0\n",
    "    area = \"\"\n",
    "    for key, information in my_dictionary.items():\n",
    "        d[information['Region']] += 1\n",
    "\n",
    "    for item in d.items():\n",
    "        if item[1] > number_of_people:\n",
    "            number_of_people = item[1]\n",
    "            area = item[0]\n",
    "    return area, number_of_people"
   ]
  },
  {
   "cell_type": "markdown",
   "metadata": {},
   "source": [
    "Now lets create a dictionary with all our patient info"
   ]
  },
  {
   "cell_type": "code",
   "execution_count": 10,
   "metadata": {},
   "outputs": [],
   "source": [
    "insurance_dictionary = create_dictionary(age, sex, bmi, children, smoker, region, charges)"
   ]
  },
  {
   "cell_type": "code",
   "execution_count": 12,
   "metadata": {},
   "outputs": [
    {
     "name": "stdout",
     "output_type": "stream",
     "text": [
      "Average age of all people in list is 39.21\n"
     ]
    }
   ],
   "source": [
    "average_age = calculate_average_age(age)\n",
    "print(\"Average age of all people in list is {}\".format(average_age))"
   ]
  },
  {
   "cell_type": "markdown",
   "metadata": {},
   "source": [
    "As we see the average age of all patients in list is **39** years which show that list can be used for a broader population. "
   ]
  },
  {
   "cell_type": "code",
   "execution_count": 13,
   "metadata": {},
   "outputs": [
    {
     "name": "stdout",
     "output_type": "stream",
     "text": [
      "Average male age is 38.92, average female age is 39.5\n"
     ]
    }
   ],
   "source": [
    "average_male_age, average_female_age = calculate_average_age_by_gender(insurance_dictionary)\n",
    "print(\"Average male age is {}, average female age is {}\".format(average_male_age, average_female_age))"
   ]
  },
  {
   "cell_type": "markdown",
   "metadata": {},
   "source": [
    "Average males age is lower then females almost on 0.6 years."
   ]
  },
  {
   "cell_type": "code",
   "execution_count": 14,
   "metadata": {},
   "outputs": [
    {
     "name": "stdout",
     "output_type": "stream",
     "text": [
      "20.48% people are smokers\n"
     ]
    }
   ],
   "source": [
    "smokers_percentage = calculate_smoker_percentage(insurance_dictionary)\n",
    "print(\"{}% people are smokers\".format(smokers_percentage))"
   ]
  },
  {
   "cell_type": "markdown",
   "metadata": {},
   "source": [
    "We can see that only **20.5%** of all our patients are smokers which is higher then smokers rate at USA in 2021 according to [worldpopulationreview.com](https://worldpopulationreview.com/country-rankings/smoking-rates-by-country)"
   ]
  },
  {
   "cell_type": "code",
   "execution_count": 15,
   "metadata": {},
   "outputs": [
    {
     "name": "stdout",
     "output_type": "stream",
     "text": [
      "The price is more expensive for smokers then non-smokers on average 97.86%\n"
     ]
    }
   ],
   "source": [
    "difference_percentage_in_price_for_smokers = difference_in_price_for_smokers(insurance_dictionary)\n",
    "print('The price is more expensive for smokers then non-smokers on average {}%'.format(\n",
    "    difference_percentage_in_price_for_smokers))"
   ]
  },
  {
   "cell_type": "markdown",
   "metadata": {},
   "source": [
    "Average insurance cost for smokers is almost twice higher then non-smokers. 98% is a very big number and if smoker can quit his insurance price will be decrease. "
   ]
  },
  {
   "cell_type": "code",
   "execution_count": 16,
   "metadata": {},
   "outputs": [
    {
     "name": "stdout",
     "output_type": "stream",
     "text": [
      "Average age of people with children is 39.78\n"
     ]
    }
   ],
   "source": [
    "age_of_people_with_children = calculate_average_age_with_children(insurance_dictionary)\n",
    "print('Average age of people with children is {}'.format(age_of_people_with_children))"
   ]
  },
  {
   "cell_type": "markdown",
   "metadata": {},
   "source": [
    "Average age of people with minimum one child is around 40 years which shows that people spend more time on their lifes, careers then it was before."
   ]
  },
  {
   "cell_type": "code",
   "execution_count": 21,
   "metadata": {},
   "outputs": [
    {
     "name": "stdout",
     "output_type": "stream",
     "text": [
      "From southeast region has the biggest number of people 728.\n"
     ]
    }
   ],
   "source": [
    "area_of_highest_number, number_of_people_from_region = calculate_regions(insurance_dictionary)\n",
    "print('From {} region has the biggest number of people {}.'.format(area_of_highest_number, number_of_people_from_region))"
   ]
  },
  {
   "cell_type": "markdown",
   "metadata": {},
   "source": [
    "Most people are leaving in southeast region.  "
   ]
  },
  {
   "cell_type": "markdown",
   "metadata": {},
   "source": [
    "All patient data is now neatly organized in a dictionary. This is convenient for further analysis if a decision is made to continue making investigations for the attributes in **insurance.csv**."
   ]
  }
 ],
 "metadata": {
  "kernelspec": {
   "display_name": "Python 3",
   "language": "python",
   "name": "python3"
  },
  "language_info": {
   "codemirror_mode": {
    "name": "ipython",
    "version": 3
   },
   "file_extension": ".py",
   "mimetype": "text/x-python",
   "name": "python",
   "nbconvert_exporter": "python",
   "pygments_lexer": "ipython3",
   "version": "3.8.5"
  }
 },
 "nbformat": 4,
 "nbformat_minor": 4
}
